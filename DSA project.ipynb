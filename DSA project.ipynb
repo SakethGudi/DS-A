{
 "cells": [
  {
   "cell_type": "markdown",
   "id": "genuine-provincial",
   "metadata": {},
   "source": [
    "# Sorting a Linked List \n",
    "\n",
    "_To learn how to use this template, check out the course [\"Data Structures and Algorithms in Python\"](https://jovian.ai/learn/data-structures-and-algorithms-in-python)._\n",
    "\n",
    "\n"
   ]
  },
  {
   "cell_type": "code",
   "execution_count": 1,
   "id": "equipped-stockholm",
   "metadata": {},
   "outputs": [],
   "source": [
    "project_name = \"Sorting List\""
   ]
  },
  {
   "cell_type": "code",
   "execution_count": 2,
   "id": "round-geography",
   "metadata": {},
   "outputs": [],
   "source": [
    "!pip install jovian --upgrade --quiet"
   ]
  },
  {
   "cell_type": "code",
   "execution_count": 3,
   "id": "handmade-financing",
   "metadata": {},
   "outputs": [],
   "source": [
    "import jovian"
   ]
  },
  {
   "cell_type": "code",
   "execution_count": 4,
   "id": "declared-obligation",
   "metadata": {},
   "outputs": [
    {
     "data": {
      "application/javascript": [
       "window.require && require([\"base/js/namespace\"],function(Jupyter){Jupyter.notebook.save_checkpoint()})"
      ],
      "text/plain": [
       "<IPython.core.display.Javascript object>"
      ]
     },
     "metadata": {},
     "output_type": "display_data"
    },
    {
     "name": "stdout",
     "output_type": "stream",
     "text": [
      "[jovian] Attempting to save notebook..\u001b[0m\n",
      "[jovian] Updating notebook \"sakethgudi/sorting-list\" on https://jovian.ai\u001b[0m\n",
      "[jovian] Uploading notebook..\u001b[0m\n",
      "[jovian] Uploading additional files...\u001b[0m\n",
      "[jovian] Committed successfully! https://jovian.ai/sakethgudi/sorting-list\u001b[0m\n"
     ]
    },
    {
     "data": {
      "text/plain": [
       "'https://jovian.ai/sakethgudi/sorting-list'"
      ]
     },
     "execution_count": 4,
     "metadata": {},
     "output_type": "execute_result"
    }
   ],
   "source": [
    "jovian.commit(project=project_name)"
   ]
  },
  {
   "cell_type": "markdown",
   "id": "aware-screen",
   "metadata": {},
   "source": [
    "## Problem Statement\n",
    "\n",
    "\n",
    "> Given the head of a linked list, return the list after sorting it in ascending order\n",
    "\n",
    "\n",
    "Source: https://leetcode.com/problems/sort-list/"
   ]
  },
  {
   "cell_type": "markdown",
   "id": "charitable-nirvana",
   "metadata": {},
   "source": [
    "## The Method\n",
    "\n",
    "Here's the systematic strategy we'll apply for solving problems:\n",
    "\n",
    "1. State the problem clearly. Identify the input & output formats.\n",
    "2. Come up with some example inputs & outputs. Try to cover all edge cases.\n",
    "3. Come up with a correct solution for the problem. State it in plain English.\n",
    "4. Implement the solution and test it using example inputs. Fix bugs, if any.\n",
    "5. Analyze the algorithm's complexity and identify inefficiencies, if any.\n",
    "6. Apply the right technique to overcome the inefficiency. Repeat steps 3 to 6.\n",
    "\n",
    "This approach is explained in detail in [Lesson 1](https://jovian.ai/learn/data-structures-and-algorithms-in-python/lesson/lesson-1-binary-search-linked-lists-and-complexity) of the course. Let's apply this approach step-by-step."
   ]
  },
  {
   "cell_type": "markdown",
   "id": "governing-vienna",
   "metadata": {},
   "source": [
    "## Solution\n",
    "\n",
    "\n",
    "### 1. State the problem clearly. Identify the input & output formats.\n",
    "\n",
    "While this problem is stated clearly enough, it's always useful to try and express in your own words, in a way that makes it most clear for you. \n",
    "\n",
    "\n",
    "**Problem**\n",
    "\n",
    "> This Problem here is a pretty simple one. Its taken from leetcode, it goes like this:\n",
    "  If a linked list is given in a random order, we have to sort it in ascending order and give the output.\n",
    "\n",
    "<br/>\n",
    "\n",
    "\n",
    "**Input**\n",
    "\n",
    "1. head = [7,3,9,11]\n",
    "\n",
    "\n",
    "(add more if required)\n",
    "\n",
    "\n",
    "**Output**\n",
    "\n",
    "1. [3,7,9,11]\n",
    "\n",
    "\n",
    "(add more if required)\n",
    "\n",
    "<br/>\n",
    "\n",
    "Based on the above, we can now create a signature of our function:"
   ]
  },
  {
   "cell_type": "code",
   "execution_count": 5,
   "id": "twenty-deviation",
   "metadata": {},
   "outputs": [],
   "source": [
    "def sort(head):\n",
    "    pass"
   ]
  },
  {
   "cell_type": "markdown",
   "id": "dutch-perspective",
   "metadata": {},
   "source": [
    "Save and upload your work before continuing."
   ]
  },
  {
   "cell_type": "code",
   "execution_count": 6,
   "id": "general-abraham",
   "metadata": {},
   "outputs": [],
   "source": [
    "import jovian"
   ]
  },
  {
   "cell_type": "code",
   "execution_count": 7,
   "id": "worthy-relay",
   "metadata": {},
   "outputs": [
    {
     "data": {
      "application/javascript": [
       "window.require && require([\"base/js/namespace\"],function(Jupyter){Jupyter.notebook.save_checkpoint()})"
      ],
      "text/plain": [
       "<IPython.core.display.Javascript object>"
      ]
     },
     "metadata": {},
     "output_type": "display_data"
    },
    {
     "name": "stdout",
     "output_type": "stream",
     "text": [
      "[jovian] Attempting to save notebook..\u001b[0m\n",
      "[jovian] Updating notebook \"sakethgudi/sorting-list\" on https://jovian.ai\u001b[0m\n",
      "[jovian] Uploading notebook..\u001b[0m\n",
      "[jovian] Uploading additional files...\u001b[0m\n",
      "[jovian] Committed successfully! https://jovian.ai/sakethgudi/sorting-list\u001b[0m\n"
     ]
    },
    {
     "data": {
      "text/plain": [
       "'https://jovian.ai/sakethgudi/sorting-list'"
      ]
     },
     "execution_count": 7,
     "metadata": {},
     "output_type": "execute_result"
    }
   ],
   "source": [
    "jovian.commit()"
   ]
  },
  {
   "cell_type": "markdown",
   "id": "comfortable-venice",
   "metadata": {},
   "source": [
    "### 2. Come up with some example inputs & outputs. Try to cover all edge cases.\n",
    "\n",
    "Our function should be able to handle any set of valid inputs we pass into it. Here's a list of some possible variations we might encounter:\n",
    "\n",
    "1. A list with all positive numbers.\n",
    "2. A list with all negative numbers\n",
    "3. A lsit with both positive and negative numbers\n",
    "4. A list with decimal numbers.\n",
    "5. A list with combination of all the above numbers.\n",
    "\n",
    "(add more if required)\n",
    "\n",
    "\n",
    "We'll express our test cases as dictionaries, to test them easily. Each dictionary will contain 2 keys: `input` (a dictionary itself containing one key for each argument to the function and `output` (the expected result from the function). "
   ]
  },
  {
   "cell_type": "code",
   "execution_count": 8,
   "id": "danish-baker",
   "metadata": {},
   "outputs": [],
   "source": [
    "test = {\n",
    "    'input': {\n",
    "        'head':[7,3,9,11]\n",
    "    },\n",
    "    'output': [3,7,9,11]\n",
    "}"
   ]
  },
  {
   "cell_type": "code",
   "execution_count": 9,
   "id": "competitive-farmer",
   "metadata": {},
   "outputs": [
    {
     "data": {
      "text/plain": [
       "(None, False)"
      ]
     },
     "execution_count": 9,
     "metadata": {},
     "output_type": "execute_result"
    }
   ],
   "source": [
    "head0 = test['input']['head']\n",
    "output0 = test['output']\n",
    "result0 = sort(head0)\n",
    "result0, result0 == output0"
   ]
  },
  {
   "cell_type": "code",
   "execution_count": 10,
   "id": "superior-trustee",
   "metadata": {},
   "outputs": [],
   "source": [
    "from jovian.pythondsa import evaluate_test_case"
   ]
  },
  {
   "cell_type": "code",
   "execution_count": 11,
   "id": "european-committee",
   "metadata": {},
   "outputs": [
    {
     "name": "stdout",
     "output_type": "stream",
     "text": [
      "\n",
      "Input:\n",
      "{'head': [7, 3, 9, 11]}\n",
      "\n",
      "Expected Output:\n",
      "[3, 7, 9, 11]\n",
      "\n",
      "\n",
      "Actual Output:\n",
      "None\n",
      "\n",
      "Execution Time:\n",
      "0.003 ms\n",
      "\n",
      "Test Result:\n",
      "\u001b[91mFAILED\u001b[0m\n",
      "\n"
     ]
    },
    {
     "data": {
      "text/plain": [
       "(None, False, 0.003)"
      ]
     },
     "execution_count": 11,
     "metadata": {},
     "output_type": "execute_result"
    }
   ],
   "source": [
    "evaluate_test_case(sort, test)"
   ]
  },
  {
   "cell_type": "markdown",
   "id": "planned-retention",
   "metadata": {},
   "source": [
    "Create one test case for each of the scenarios listed above. We'll store our test cases in an array called `tests`."
   ]
  },
  {
   "cell_type": "code",
   "execution_count": 12,
   "id": "growing-requirement",
   "metadata": {},
   "outputs": [],
   "source": [
    "tests = []"
   ]
  },
  {
   "cell_type": "code",
   "execution_count": 13,
   "id": "outdoor-alabama",
   "metadata": {},
   "outputs": [],
   "source": [
    "tests.append(test)"
   ]
  },
  {
   "cell_type": "code",
   "execution_count": 14,
   "id": "structural-firmware",
   "metadata": {},
   "outputs": [],
   "source": [
    "tests.append({\n",
    "    'input': {\n",
    "        'head':[11,1,17,8,9,12,5]\n",
    "    },\n",
    "    'output': [1,5,8,9,11,12,17]\n",
    "})"
   ]
  },
  {
   "cell_type": "code",
   "execution_count": 15,
   "id": "behind-specific",
   "metadata": {},
   "outputs": [],
   "source": [
    "tests.append({\n",
    "    'input': {\n",
    "       'head':[ -3,-9,-5,-7,-1,-11]\n",
    "    },\n",
    "    'output': [-11,-9,-7,-5,-3,-1]\n",
    "})"
   ]
  },
  {
   "cell_type": "code",
   "execution_count": 16,
   "id": "artificial-assault",
   "metadata": {},
   "outputs": [],
   "source": [
    "tests.append({\n",
    "    'input': {\n",
    "        'head':[-9,2,-7,56,-39,67,12,-3]\n",
    "    },\n",
    "    'output': [-39,-9,-7,-3,2,12,56,67]\n",
    "})"
   ]
  },
  {
   "cell_type": "code",
   "execution_count": 17,
   "id": "medical-relative",
   "metadata": {},
   "outputs": [],
   "source": [
    "tests.append({\n",
    "    'input': {\n",
    "        'head':[12.33,6.77,8.23,-2.67,-1.55,25.33]\n",
    "    },\n",
    "    'output': [-2.67,-1.55,6.77,8.23,12.33,25.33]\n",
    "})"
   ]
  },
  {
   "cell_type": "code",
   "execution_count": 18,
   "id": "spiritual-possible",
   "metadata": {},
   "outputs": [],
   "source": [
    "tests.append({\n",
    "    'input': {\n",
    "        'head':[15,-8.99,-47,64.23,99,-12.67,-45]\n",
    "    },\n",
    "    'output': [-47,-45,-12.67,-8.99,15,64.23,99]\n",
    "})"
   ]
  },
  {
   "cell_type": "code",
   "execution_count": 19,
   "id": "electrical-commission",
   "metadata": {},
   "outputs": [],
   "source": [
    "from jovian.pythondsa import evaluate_test_cases"
   ]
  },
  {
   "cell_type": "code",
   "execution_count": 20,
   "id": "greater-divorce",
   "metadata": {},
   "outputs": [
    {
     "name": "stdout",
     "output_type": "stream",
     "text": [
      "\n",
      "\u001b[1mTEST CASE #0\u001b[0m\n",
      "\n",
      "Input:\n",
      "{'head': [7, 3, 9, 11]}\n",
      "\n",
      "Expected Output:\n",
      "[3, 7, 9, 11]\n",
      "\n",
      "\n",
      "Actual Output:\n",
      "None\n",
      "\n",
      "Execution Time:\n",
      "0.003 ms\n",
      "\n",
      "Test Result:\n",
      "\u001b[91mFAILED\u001b[0m\n",
      "\n",
      "\n",
      "\u001b[1mTEST CASE #1\u001b[0m\n",
      "\n",
      "Input:\n",
      "{'head': [11, 1, 17, 8, 9, 12, 5]}\n",
      "\n",
      "Expected Output:\n",
      "[1, 5, 8, 9, 11, 12, 17]\n",
      "\n",
      "\n",
      "Actual Output:\n",
      "None\n",
      "\n",
      "Execution Time:\n",
      "0.002 ms\n",
      "\n",
      "Test Result:\n",
      "\u001b[91mFAILED\u001b[0m\n",
      "\n",
      "\n",
      "\u001b[1mTEST CASE #2\u001b[0m\n",
      "\n",
      "Input:\n",
      "{'head': [-3, -9, -5, -7, -1, -11]}\n",
      "\n",
      "Expected Output:\n",
      "[-11, -9, -7, -5, -3, -1]\n",
      "\n",
      "\n",
      "Actual Output:\n",
      "None\n",
      "\n",
      "Execution Time:\n",
      "0.002 ms\n",
      "\n",
      "Test Result:\n",
      "\u001b[91mFAILED\u001b[0m\n",
      "\n",
      "\n",
      "\u001b[1mTEST CASE #3\u001b[0m\n",
      "\n",
      "Input:\n",
      "{'head': [-9, 2, -7, 56, -39, 67, 12, -3]}\n",
      "\n",
      "Expected Output:\n",
      "[-39, -9, -7, -3, 2, 12, 56, 67]\n",
      "\n",
      "\n",
      "Actual Output:\n",
      "None\n",
      "\n",
      "Execution Time:\n",
      "0.001 ms\n",
      "\n",
      "Test Result:\n",
      "\u001b[91mFAILED\u001b[0m\n",
      "\n",
      "\n",
      "\u001b[1mTEST CASE #4\u001b[0m\n",
      "\n",
      "Input:\n",
      "{'head': [12.33, 6.77, 8.23, -2.67, -1.55, 25.33]}\n",
      "\n",
      "Expected Output:\n",
      "[-2.67, -1.55, 6.77, 8.23, 12.33, 25.33]\n",
      "\n",
      "\n",
      "Actual Output:\n",
      "None\n",
      "\n",
      "Execution Time:\n",
      "0.008 ms\n",
      "\n",
      "Test Result:\n",
      "\u001b[91mFAILED\u001b[0m\n",
      "\n",
      "\n",
      "\u001b[1mTEST CASE #5\u001b[0m\n",
      "\n",
      "Input:\n",
      "{'head': [15, -8.99, -47, 64.23, 99, -12.67, -45]}\n",
      "\n",
      "Expected Output:\n",
      "[-47, -45, -12.67, -8.99, 15, 64.23, 99]\n",
      "\n",
      "\n",
      "Actual Output:\n",
      "None\n",
      "\n",
      "Execution Time:\n",
      "0.001 ms\n",
      "\n",
      "Test Result:\n",
      "\u001b[91mFAILED\u001b[0m\n",
      "\n",
      "\n",
      "\u001b[1mSUMMARY\u001b[0m\n",
      "\n",
      "TOTAL: 6, \u001b[92mPASSED\u001b[0m: 0, \u001b[91mFAILED\u001b[0m: 6\n"
     ]
    },
    {
     "data": {
      "text/plain": [
       "[(None, False, 0.003),\n",
       " (None, False, 0.002),\n",
       " (None, False, 0.002),\n",
       " (None, False, 0.001),\n",
       " (None, False, 0.008),\n",
       " (None, False, 0.001)]"
      ]
     },
     "execution_count": 20,
     "metadata": {},
     "output_type": "execute_result"
    }
   ],
   "source": [
    "evaluate_test_cases(sort, tests)"
   ]
  },
  {
   "cell_type": "code",
   "execution_count": null,
   "id": "creative-burning",
   "metadata": {},
   "outputs": [],
   "source": []
  },
  {
   "cell_type": "code",
   "execution_count": null,
   "id": "neutral-error",
   "metadata": {},
   "outputs": [],
   "source": []
  },
  {
   "cell_type": "markdown",
   "id": "verbal-claim",
   "metadata": {},
   "source": [
    "### 3. Come up with a correct solution for the problem. State it in plain English.\n",
    "\n",
    "Our first goal should always be to come up with a _correct_ solution to the problem, which may not necessarily be the most _efficient_ solution. Come with a correct solution and explain it in simple words below:\n",
    "\n",
    "The simple solution to the problem is by comparing each element with the left over elements in the list and if the element is small then swapping the elements in position.This can be achieved through two loops. The outer loop will select an element, and inner loop allows us to compare selected element with rest of the elements.When we do this for all the elements in the list we'll get the final answer.\n",
    "below are some steps to follow:\n",
    "\n",
    "1. Initially for the correct solution, i'll use the brute force method.\n",
    "2. Firstly we need loop through the list and select an element. Now compare it with the other elements in the list.\n",
    "3. If the element comparing in the inner loop is less than the other element swap the numbers.\n",
    "4. After the swapping is done go to the next element and repeat the same process.\n",
    "5. Thus we'll get the final sorted list.\n",
    "\n",
    "(add more steps if required)\n",
    "\n",
    "\n",
    "Let's save and upload our work before continuing.\n",
    "\n",
    "\n"
   ]
  },
  {
   "cell_type": "code",
   "execution_count": 21,
   "id": "daily-relief",
   "metadata": {},
   "outputs": [
    {
     "data": {
      "application/javascript": [
       "window.require && require([\"base/js/namespace\"],function(Jupyter){Jupyter.notebook.save_checkpoint()})"
      ],
      "text/plain": [
       "<IPython.core.display.Javascript object>"
      ]
     },
     "metadata": {},
     "output_type": "display_data"
    },
    {
     "name": "stdout",
     "output_type": "stream",
     "text": [
      "[jovian] Attempting to save notebook..\u001b[0m\n",
      "[jovian] Updating notebook \"sakethgudi/sorting-list\" on https://jovian.ai\u001b[0m\n",
      "[jovian] Uploading notebook..\u001b[0m\n",
      "[jovian] Uploading additional files...\u001b[0m\n",
      "[jovian] Committed successfully! https://jovian.ai/sakethgudi/sorting-list\u001b[0m\n"
     ]
    },
    {
     "data": {
      "text/plain": [
       "'https://jovian.ai/sakethgudi/sorting-list'"
      ]
     },
     "execution_count": 21,
     "metadata": {},
     "output_type": "execute_result"
    }
   ],
   "source": [
    "jovian.commit()"
   ]
  },
  {
   "cell_type": "markdown",
   "id": "applicable-acrylic",
   "metadata": {},
   "source": [
    "###  4. Implement the solution and test it using example inputs. Fix bugs, if any."
   ]
  },
  {
   "cell_type": "code",
   "execution_count": 22,
   "id": "continuing-syndication",
   "metadata": {},
   "outputs": [],
   "source": [
    "def sort_basic(head):\n",
    "    \n",
    "    temp=[]\n",
    "    for i in head:\n",
    "        temp.append(i)\n",
    "    \n",
    "    for i in range(len(temp)): \n",
    "        for j in range(i + 1, len(temp)): \n",
    " \n",
    "            if temp[i] > temp[j]: \n",
    "               temp[i], temp[j] = temp[j], temp[i] \n",
    "            \n",
    "    \n",
    "    return temp\n",
    "        \n",
    "\n",
    "     \n",
    "        \n",
    "    "
   ]
  },
  {
   "cell_type": "code",
   "execution_count": null,
   "id": "broken-minister",
   "metadata": {},
   "outputs": [],
   "source": []
  },
  {
   "cell_type": "code",
   "execution_count": null,
   "id": "superb-document",
   "metadata": {},
   "outputs": [],
   "source": []
  },
  {
   "cell_type": "code",
   "execution_count": null,
   "id": "liked-tension",
   "metadata": {},
   "outputs": [],
   "source": []
  },
  {
   "cell_type": "markdown",
   "id": "independent-starter",
   "metadata": {},
   "source": [
    "We can test the function by passing the input to it directly or by using the `evaluate_test_case` function from `jovian`."
   ]
  },
  {
   "cell_type": "code",
   "execution_count": 23,
   "id": "falling-condition",
   "metadata": {},
   "outputs": [],
   "source": [
    "from jovian.pythondsa import evaluate_test_case"
   ]
  },
  {
   "cell_type": "code",
   "execution_count": 24,
   "id": "anticipated-compromise",
   "metadata": {},
   "outputs": [
    {
     "name": "stdout",
     "output_type": "stream",
     "text": [
      "\n",
      "Input:\n",
      "{'head': [7, 3, 9, 11]}\n",
      "\n",
      "Expected Output:\n",
      "[3, 7, 9, 11]\n",
      "\n",
      "\n",
      "Actual Output:\n",
      "[3, 7, 9, 11]\n",
      "\n",
      "Execution Time:\n",
      "0.007 ms\n",
      "\n",
      "Test Result:\n",
      "\u001b[92mPASSED\u001b[0m\n",
      "\n"
     ]
    }
   ],
   "source": [
    "result=evaluate_test_case(sort_basic,test)"
   ]
  },
  {
   "cell_type": "markdown",
   "id": "emotional-novelty",
   "metadata": {},
   "source": [
    "Evaluate your function against all the test cases together using the `evaluate_test_cases` (plural) function from `jovian`."
   ]
  },
  {
   "cell_type": "code",
   "execution_count": 25,
   "id": "reflected-workplace",
   "metadata": {},
   "outputs": [],
   "source": [
    "from jovian.pythondsa import evaluate_test_cases"
   ]
  },
  {
   "cell_type": "code",
   "execution_count": 26,
   "id": "conditional-shelf",
   "metadata": {},
   "outputs": [
    {
     "name": "stdout",
     "output_type": "stream",
     "text": [
      "\n",
      "\u001b[1mTEST CASE #0\u001b[0m\n",
      "\n",
      "Input:\n",
      "{'head': [7, 3, 9, 11]}\n",
      "\n",
      "Expected Output:\n",
      "[3, 7, 9, 11]\n",
      "\n",
      "\n",
      "Actual Output:\n",
      "[3, 7, 9, 11]\n",
      "\n",
      "Execution Time:\n",
      "0.008 ms\n",
      "\n",
      "Test Result:\n",
      "\u001b[92mPASSED\u001b[0m\n",
      "\n",
      "\n",
      "\u001b[1mTEST CASE #1\u001b[0m\n",
      "\n",
      "Input:\n",
      "{'head': [11, 1, 17, 8, 9, 12, 5]}\n",
      "\n",
      "Expected Output:\n",
      "[1, 5, 8, 9, 11, 12, 17]\n",
      "\n",
      "\n",
      "Actual Output:\n",
      "[1, 5, 8, 9, 11, 12, 17]\n",
      "\n",
      "Execution Time:\n",
      "0.011 ms\n",
      "\n",
      "Test Result:\n",
      "\u001b[92mPASSED\u001b[0m\n",
      "\n",
      "\n",
      "\u001b[1mTEST CASE #2\u001b[0m\n",
      "\n",
      "Input:\n",
      "{'head': [-3, -9, -5, -7, -1, -11]}\n",
      "\n",
      "Expected Output:\n",
      "[-11, -9, -7, -5, -3, -1]\n",
      "\n",
      "\n",
      "Actual Output:\n",
      "[-11, -9, -7, -5, -3, -1]\n",
      "\n",
      "Execution Time:\n",
      "0.008 ms\n",
      "\n",
      "Test Result:\n",
      "\u001b[92mPASSED\u001b[0m\n",
      "\n",
      "\n",
      "\u001b[1mTEST CASE #3\u001b[0m\n",
      "\n",
      "Input:\n",
      "{'head': [-9, 2, -7, 56, -39, 67, 12, -3]}\n",
      "\n",
      "Expected Output:\n",
      "[-39, -9, -7, -3, 2, 12, 56, 67]\n",
      "\n",
      "\n",
      "Actual Output:\n",
      "[-39, -9, -7, -3, 2, 12, 56, 67]\n",
      "\n",
      "Execution Time:\n",
      "0.01 ms\n",
      "\n",
      "Test Result:\n",
      "\u001b[92mPASSED\u001b[0m\n",
      "\n",
      "\n",
      "\u001b[1mTEST CASE #4\u001b[0m\n",
      "\n",
      "Input:\n",
      "{'head': [12.33, 6.77, 8.23, -2.67, -1.55, 25.33]}\n",
      "\n",
      "Expected Output:\n",
      "[-2.67, -1.55, 6.77, 8.23, 12.33, 25.33]\n",
      "\n",
      "\n",
      "Actual Output:\n",
      "[-2.67, -1.55, 6.77, 8.23, 12.33, 25.33]\n",
      "\n",
      "Execution Time:\n",
      "0.007 ms\n",
      "\n",
      "Test Result:\n",
      "\u001b[92mPASSED\u001b[0m\n",
      "\n",
      "\n",
      "\u001b[1mTEST CASE #5\u001b[0m\n",
      "\n",
      "Input:\n",
      "{'head': [15, -8.99, -47, 64.23, 99, -12.67, -45]}\n",
      "\n",
      "Expected Output:\n",
      "[-47, -45, -12.67, -8.99, 15, 64.23, 99]\n",
      "\n",
      "\n",
      "Actual Output:\n",
      "[-47, -45, -12.67, -8.99, 15, 64.23, 99]\n",
      "\n",
      "Execution Time:\n",
      "0.009 ms\n",
      "\n",
      "Test Result:\n",
      "\u001b[92mPASSED\u001b[0m\n",
      "\n",
      "\n",
      "\u001b[1mSUMMARY\u001b[0m\n",
      "\n",
      "TOTAL: 6, \u001b[92mPASSED\u001b[0m: 6, \u001b[91mFAILED\u001b[0m: 0\n"
     ]
    },
    {
     "data": {
      "text/plain": [
       "[([3, 7, 9, 11], True, 0.008),\n",
       " ([1, 5, 8, 9, 11, 12, 17], True, 0.011),\n",
       " ([-11, -9, -7, -5, -3, -1], True, 0.008),\n",
       " ([-39, -9, -7, -3, 2, 12, 56, 67], True, 0.01),\n",
       " ([-2.67, -1.55, 6.77, 8.23, 12.33, 25.33], True, 0.007),\n",
       " ([-47, -45, -12.67, -8.99, 15, 64.23, 99], True, 0.009)]"
      ]
     },
     "execution_count": 26,
     "metadata": {},
     "output_type": "execute_result"
    }
   ],
   "source": [
    "evaluate_test_cases(sort_basic,tests)"
   ]
  },
  {
   "cell_type": "markdown",
   "id": "unlike-preliminary",
   "metadata": {},
   "source": [
    "Verify that all the test cases were evaluated. We expect them all to fail, since we haven't implemented the function yet.\n",
    "\n",
    "Let's save our work before continuing."
   ]
  },
  {
   "cell_type": "code",
   "execution_count": 27,
   "id": "divided-fleece",
   "metadata": {},
   "outputs": [
    {
     "data": {
      "application/javascript": [
       "window.require && require([\"base/js/namespace\"],function(Jupyter){Jupyter.notebook.save_checkpoint()})"
      ],
      "text/plain": [
       "<IPython.core.display.Javascript object>"
      ]
     },
     "metadata": {},
     "output_type": "display_data"
    },
    {
     "name": "stdout",
     "output_type": "stream",
     "text": [
      "[jovian] Attempting to save notebook..\u001b[0m\n",
      "[jovian] Updating notebook \"sakethgudi/sorting-list\" on https://jovian.ai\u001b[0m\n",
      "[jovian] Uploading notebook..\u001b[0m\n",
      "[jovian] Uploading additional files...\u001b[0m\n",
      "[jovian] Committed successfully! https://jovian.ai/sakethgudi/sorting-list\u001b[0m\n"
     ]
    },
    {
     "data": {
      "text/plain": [
       "'https://jovian.ai/sakethgudi/sorting-list'"
      ]
     },
     "execution_count": 27,
     "metadata": {},
     "output_type": "execute_result"
    }
   ],
   "source": [
    "jovian.commit()"
   ]
  },
  {
   "cell_type": "code",
   "execution_count": null,
   "id": "military-reception",
   "metadata": {},
   "outputs": [],
   "source": []
  },
  {
   "cell_type": "markdown",
   "id": "confident-singing",
   "metadata": {},
   "source": [
    "### 5. Analyze the algorithm's complexity and identify inefficiencies, if any."
   ]
  },
  {
   "cell_type": "markdown",
   "id": "phantom-medline",
   "metadata": {},
   "source": [
    "Time Complexity= \"O(n)+O(n^2)\""
   ]
  },
  {
   "cell_type": "markdown",
   "id": "comfortable-convertible",
   "metadata": {},
   "source": [
    "space complexity= \"O(n)\""
   ]
  },
  {
   "cell_type": "code",
   "execution_count": null,
   "id": "cloudy-melbourne",
   "metadata": {},
   "outputs": [
    {
     "data": {
      "application/javascript": [
       "window.require && require([\"base/js/namespace\"],function(Jupyter){Jupyter.notebook.save_checkpoint()})"
      ],
      "text/plain": [
       "<IPython.core.display.Javascript object>"
      ]
     },
     "metadata": {},
     "output_type": "display_data"
    },
    {
     "name": "stdout",
     "output_type": "stream",
     "text": [
      "[jovian] Attempting to save notebook..\u001b[0m\n"
     ]
    }
   ],
   "source": [
    "jovian.commit()"
   ]
  },
  {
   "cell_type": "markdown",
   "id": "ranging-madrid",
   "metadata": {},
   "source": [
    "### 6. Apply the right technique to overcome the inefficiency. Repeat steps 3 to 6."
   ]
  },
  {
   "cell_type": "markdown",
   "id": "desperate-margin",
   "metadata": {},
   "source": [
    "The above technique is also known as selection sort. The method takes more time than what we need. Thus we need more efficient way to solve the problem.\n",
    "We can use a method known as Top down Merge sort or simply known as divide and conquer method. This method is efficient as the time complexity is significantly reduced.\n",
    "\n",
    "The technique includes splitting the whole problem into small subproblems and solving them in each way.\n",
    "The Top Down approach for merge sort recursively splits the original list into sublists of equal sizes, sorts each sublist independently, and eventually merge the sorted lists."
   ]
  },
  {
   "cell_type": "code",
   "execution_count": null,
   "id": "alien-disposal",
   "metadata": {},
   "outputs": [],
   "source": [
    "jovian.commit()"
   ]
  },
  {
   "cell_type": "markdown",
   "id": "blessed-conviction",
   "metadata": {},
   "source": [
    "### 7. Come up with a correct solution for the problem. State it in plain English.\n",
    "\n",
    "Come with the optimized correct solution and explain it in simple words below:\n",
    "\n",
    "1. This is the Divide and Conquer method.\n",
    "2. Recursively split the original list into two halves. The split continues until there is only one node in the linked list (Divide phase).\n",
    "3. To split the list into two halves we need to find the middle element of the list by dividing the length of the list by 2.\n",
    "4. Now we need to solve the two lists individually rather than solving it combined. After solving each we need to merge the lists, which gives us the answer faster than the above method\n",
    "5. Ex: For the head: [15,2,7,20,11] we split it into [15,2] and [7,20,11], for the first list we just compare the numbers, then we'll know the max no. for second list again we split it into two lists and compare he numbers. This goes on until we sort each sub list.\n",
    "6. Now we merge the lists as they are already sorted we'll get the final sorted list.\n",
    "\n",
    "\n",
    "\n",
    "\n",
    "Let's save and upload our work before continuing.\n",
    "\n"
   ]
  },
  {
   "cell_type": "code",
   "execution_count": null,
   "id": "inclusive-registrar",
   "metadata": {},
   "outputs": [],
   "source": [
    "jovian.commit()"
   ]
  },
  {
   "cell_type": "markdown",
   "id": "attractive-formula",
   "metadata": {},
   "source": [
    "### 8. Implement the solution and test it using example inputs. Fix bugs, if any."
   ]
  },
  {
   "cell_type": "code",
   "execution_count": null,
   "id": "indonesian-spouse",
   "metadata": {},
   "outputs": [],
   "source": [
    "def sort_merge(head):\n",
    "    if len(head) > 1:\n",
    " \n",
    "        mid = len(head)//2\n",
    "        L = head[:mid]\n",
    "        R = head[mid:]\n",
    "        sort_merge(L)\n",
    "        sort_merge(R)\n",
    "        i = j = k = 0\n",
    "        while i < len(L) and j < len(R):\n",
    "            if L[i] < R[j]:\n",
    "                head[k] = L[i]\n",
    "                i += 1\n",
    "            else:\n",
    "                head[k] = R[j]\n",
    "                j += 1\n",
    "            k += 1\n",
    " \n",
    "        while i < len(L):\n",
    "            head[k] = L[i]\n",
    "            i += 1\n",
    "            k += 1\n",
    " \n",
    "        while j < len(R):\n",
    "            head[k] = R[j]\n",
    "            j += 1\n",
    "            k += 1\n",
    "    return head"
   ]
  },
  {
   "cell_type": "code",
   "execution_count": null,
   "id": "concerned-performance",
   "metadata": {},
   "outputs": [],
   "source": [
    "mergesort_result = evaluate_test_case(sort_merge, test)"
   ]
  },
  {
   "cell_type": "code",
   "execution_count": null,
   "id": "incorrect-luther",
   "metadata": {},
   "outputs": [],
   "source": [
    "mergesort_results = evaluate_test_cases(sort_merge, tests)"
   ]
  },
  {
   "cell_type": "code",
   "execution_count": null,
   "id": "weekly-package",
   "metadata": {},
   "outputs": [],
   "source": []
  },
  {
   "cell_type": "markdown",
   "id": "potential-stand",
   "metadata": {},
   "source": [
    "### 9. Analyze the algorithm's complexity and identify inefficiencies, if any."
   ]
  },
  {
   "cell_type": "code",
   "execution_count": null,
   "id": "leading-generator",
   "metadata": {},
   "outputs": [],
   "source": [
    "Time Complexiy=\"O(nLogn)\""
   ]
  },
  {
   "cell_type": "code",
   "execution_count": null,
   "id": "minute-barbados",
   "metadata": {},
   "outputs": [],
   "source": [
    "Space complexity=\"O(n)\""
   ]
  },
  {
   "cell_type": "code",
   "execution_count": null,
   "id": "amateur-audience",
   "metadata": {},
   "outputs": [],
   "source": []
  },
  {
   "cell_type": "markdown",
   "id": "narrow-dairy",
   "metadata": {},
   "source": [
    "If you found the problem on an external platform, you can make a submission to test your solution.\n",
    "\n",
    "Share your approach and start a discussion on the Jovian forum: https://jovian.ai/forum/c/data-structures-and-algorithms-in-python/78"
   ]
  },
  {
   "cell_type": "code",
   "execution_count": 30,
   "id": "appreciated-brisbane",
   "metadata": {},
   "outputs": [
    {
     "data": {
      "application/javascript": [
       "window.require && require([\"base/js/namespace\"],function(Jupyter){Jupyter.notebook.save_checkpoint()})"
      ],
      "text/plain": [
       "<IPython.core.display.Javascript object>"
      ]
     },
     "metadata": {},
     "output_type": "display_data"
    },
    {
     "name": "stdout",
     "output_type": "stream",
     "text": [
      "[jovian] Attempting to save notebook..\u001b[0m\n",
      "[jovian] Updating notebook \"sakethgudi/sorting-list\" on https://jovian.ai\u001b[0m\n",
      "[jovian] Uploading notebook..\u001b[0m\n",
      "[jovian] Uploading additional files...\u001b[0m\n",
      "[jovian] Committed successfully! https://jovian.ai/sakethgudi/sorting-list\u001b[0m\n"
     ]
    },
    {
     "data": {
      "text/plain": [
       "'https://jovian.ai/sakethgudi/sorting-list'"
      ]
     },
     "execution_count": 30,
     "metadata": {},
     "output_type": "execute_result"
    }
   ],
   "source": [
    "jovian.commit()"
   ]
  },
  {
   "cell_type": "code",
   "execution_count": null,
   "id": "funded-cutting",
   "metadata": {},
   "outputs": [],
   "source": []
  }
 ],
 "metadata": {
  "language_info": {
   "codemirror_mode": {
    "name": "ipython",
    "version": 3
   },
   "file_extension": ".py",
   "mimetype": "text/x-python",
   "name": "python",
   "nbconvert_exporter": "python",
   "pygments_lexer": "ipython3",
   "version": "3.8.6"
  }
 },
 "nbformat": 4,
 "nbformat_minor": 5
}